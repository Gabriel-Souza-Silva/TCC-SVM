{
 "cells": [
  {
   "cell_type": "code",
   "execution_count": 33,
   "metadata": {},
   "outputs": [],
   "source": [
    "import numpy as np\n",
    "import os\n",
    "import pandas as pd\n",
    "import cv2\n",
    "import mahotas as mt\n",
    "import skimage.feature as ftr\n",
    "import skimage.io\n",
    "from sklearn.model_selection import train_test_split\n",
    "from sklearn.svm import SVC\n",
    "import pickle\n",
    "from sklearn.metrics import accuracy_score\n",
    "from sklearn.preprocessing import StandardScaler"
   ]
  },
  {
   "cell_type": "code",
   "execution_count": 34,
   "metadata": {},
   "outputs": [],
   "source": [
    "def extract_features(roi):\n",
    "    textures = mt.features.haralick(roi)\n",
    "    ht_mean = textures.mean(axis=0)\n",
    "    return ht_mean"
   ]
  },
  {
   "cell_type": "code",
   "execution_count": 35,
   "metadata": {},
   "outputs": [],
   "source": [
    "def findGreatesContour(contours):\n",
    "    largest_area = 0\n",
    "    largest_contour_index = -1\n",
    "    i = 0\n",
    "    total_contours = len(contours)\n",
    "    while (i < total_contours ):\n",
    "        area = cv2.contourArea(contours[i])\n",
    "        if(area > largest_area):\n",
    "            largest_area = area\n",
    "            largest_contour_index = i\n",
    "        i+=1\n",
    "    return largest_area, largest_contour_index"
   ]
  },
  {
   "cell_type": "code",
   "execution_count": 36,
   "metadata": {},
   "outputs": [],
   "source": [
    "def getImageFeatures(path):\n",
    "    \n",
    "    image = cv2.imread(path)\n",
    "\n",
    "    gray = cv2.cvtColor(image, cv2.COLOR_BGR2GRAY)\n",
    "\n",
    "    bilateralFilter = cv2.bilateralFilter(gray, 9, 100, 100)\n",
    "\n",
    "    thresh = cv2.threshold(bilateralFilter, 150, 200, cv2.THRESH_BINARY)[1]\n",
    "\n",
    "    thresh = cv2.erode(thresh, None, iterations=2)\n",
    "\n",
    "    thresh = cv2.dilate(thresh, None, iterations=2)\n",
    "\n",
    "    _, contours, hierarchy =  cv2.findContours(thresh,cv2.RETR_TREE,cv2.CHAIN_APPROX_SIMPLE)\n",
    "\n",
    "    if len(contours) > 0 :\n",
    "        largest_area, largest_contour_index = findGreatesContour(contours)\n",
    "        x, y, w, h = cv2.boundingRect(contours[largest_contour_index])\n",
    "        roi = image[y:y+h, x:x+w]\n",
    "    else:\n",
    "        roi = image\n",
    "        \n",
    "    #exibe retangulo do tumor\n",
    "    x, y, w, h = cv2.boundingRect(contours[largest_contour_index])\n",
    "    roi = image[y:y+h, x:x+w]\n",
    "    cv2.rectangle(image,(x,y),( x + w, y + h ),(0,255,0),2) \n",
    "    cv2.imshow('area',image)\n",
    "    cv2.waitKey(0)\n",
    "    grayROI = cv2.cvtColor(roi, cv2.COLOR_BGR2GRAY)\n",
    "    features = extract_features(grayROI)\n",
    "\n",
    "    return features"
   ]
  },
  {
   "cell_type": "markdown",
   "metadata": {},
   "source": [
    "## Obtendo Feature da Imagem"
   ]
  },
  {
   "cell_type": "code",
   "execution_count": 85,
   "metadata": {},
   "outputs": [],
   "source": [
    "#filename = './Testes/1no.jpeg'\n",
    "#filename = './Testes/2no.jpeg'\n",
    "#filename = './Testes/1y.jpeg'\n",
    "#filename = './Testes/2y.jpg'\n",
    "#filename = './Testes/3no.jpg'\n",
    "#filename = './Testes/3y.jpg'\n",
    "#filename = './Testes/4y.jpg'\n",
    "#filename = './Testes/5y.jpg'\n",
    "\n",
    "filename = './img/Testes/3no.jpg'\n",
    "df = pd.DataFrame()"
   ]
  },
  {
   "cell_type": "code",
   "execution_count": 86,
   "metadata": {},
   "outputs": [],
   "source": [
    "features = getImageFeatures(filename)"
   ]
  },
  {
   "cell_type": "code",
   "execution_count": 87,
   "metadata": {},
   "outputs": [],
   "source": [
    "row = np.array(features)"
   ]
  },
  {
   "cell_type": "code",
   "execution_count": 88,
   "metadata": {},
   "outputs": [],
   "source": [
    "df = df.append(pd.Series(row), ignore_index=True)"
   ]
  },
  {
   "cell_type": "code",
   "execution_count": 89,
   "metadata": {},
   "outputs": [
    {
     "data": {
      "text/html": [
       "<div>\n",
       "<style scoped>\n",
       "    .dataframe tbody tr th:only-of-type {\n",
       "        vertical-align: middle;\n",
       "    }\n",
       "\n",
       "    .dataframe tbody tr th {\n",
       "        vertical-align: top;\n",
       "    }\n",
       "\n",
       "    .dataframe thead th {\n",
       "        text-align: right;\n",
       "    }\n",
       "</style>\n",
       "<table border=\"1\" class=\"dataframe\">\n",
       "  <thead>\n",
       "    <tr style=\"text-align: right;\">\n",
       "      <th></th>\n",
       "      <th>0</th>\n",
       "      <th>1</th>\n",
       "      <th>2</th>\n",
       "      <th>3</th>\n",
       "      <th>4</th>\n",
       "      <th>5</th>\n",
       "      <th>6</th>\n",
       "      <th>7</th>\n",
       "      <th>8</th>\n",
       "      <th>9</th>\n",
       "      <th>10</th>\n",
       "      <th>11</th>\n",
       "      <th>12</th>\n",
       "    </tr>\n",
       "  </thead>\n",
       "  <tbody>\n",
       "    <tr>\n",
       "      <th>0</th>\n",
       "      <td>0.050655</td>\n",
       "      <td>1612.659091</td>\n",
       "      <td>0.347786</td>\n",
       "      <td>1230.954678</td>\n",
       "      <td>0.232727</td>\n",
       "      <td>357.132056</td>\n",
       "      <td>3311.15962</td>\n",
       "      <td>5.903896</td>\n",
       "      <td>7.145022</td>\n",
       "      <td>0.000229</td>\n",
       "      <td>5.390063</td>\n",
       "      <td>-0.609467</td>\n",
       "      <td>0.999004</td>\n",
       "    </tr>\n",
       "  </tbody>\n",
       "</table>\n",
       "</div>"
      ],
      "text/plain": [
       "         0            1         2            3         4           5   \\\n",
       "0  0.050655  1612.659091  0.347786  1230.954678  0.232727  357.132056   \n",
       "\n",
       "           6         7         8         9         10        11        12  \n",
       "0  3311.15962  5.903896  7.145022  0.000229  5.390063 -0.609467  0.999004  "
      ]
     },
     "execution_count": 89,
     "metadata": {},
     "output_type": "execute_result"
    }
   ],
   "source": [
    "df"
   ]
  },
  {
   "cell_type": "markdown",
   "metadata": {},
   "source": [
    "## Carregando Modelos Standard e Svm salvos"
   ]
  },
  {
   "cell_type": "code",
   "execution_count": 90,
   "metadata": {},
   "outputs": [],
   "source": [
    "x = df.iloc[:, 0:12]\n",
    "\n",
    "pickle_in = open(\"data_Standard_Model.sav\",\"rb\")\n",
    "sc = pickle.load(pickle_in)\n",
    "\n",
    "x_validate = sc.transform(x)"
   ]
  },
  {
   "cell_type": "code",
   "execution_count": 91,
   "metadata": {},
   "outputs": [],
   "source": [
    "pkl_filename = \"./optimised_model.sav\"\n",
    "pickle_in = open(pkl_filename,\"rb\")\n",
    "svm = pickle.load(pickle_in)"
   ]
  },
  {
   "cell_type": "code",
   "execution_count": 92,
   "metadata": {},
   "outputs": [],
   "source": [
    "predict = svm.predict(x_validate)"
   ]
  },
  {
   "cell_type": "code",
   "execution_count": 93,
   "metadata": {},
   "outputs": [
    {
     "data": {
      "text/plain": [
       "array([0.])"
      ]
     },
     "execution_count": 93,
     "metadata": {},
     "output_type": "execute_result"
    }
   ],
   "source": [
    "predict"
   ]
  },
  {
   "cell_type": "code",
   "execution_count": null,
   "metadata": {},
   "outputs": [],
   "source": []
  }
 ],
 "metadata": {
  "kernelspec": {
   "display_name": "Python 3",
   "language": "python",
   "name": "python3"
  },
  "language_info": {
   "codemirror_mode": {
    "name": "ipython",
    "version": 3
   },
   "file_extension": ".py",
   "mimetype": "text/x-python",
   "name": "python",
   "nbconvert_exporter": "python",
   "pygments_lexer": "ipython3",
   "version": "3.7.1"
  }
 },
 "nbformat": 4,
 "nbformat_minor": 2
}

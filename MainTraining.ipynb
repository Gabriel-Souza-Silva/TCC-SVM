{
 "cells": [
  {
   "cell_type": "code",
   "execution_count": 1,
   "metadata": {},
   "outputs": [],
   "source": [
    "import numpy as np\n",
    "import os\n",
    "import pandas as pd\n",
    "import cv2\n",
    "import mahotas as mt\n",
    "import skimage.feature as ftr\n",
    "import skimage.io\n",
    "from sklearn.model_selection import train_test_split\n",
    "from sklearn.svm import SVC\n",
    "import pickle\n",
    "from sklearn.metrics import accuracy_score\n",
    "from sklearn.preprocessing import StandardScaler\n",
    "import matplotlib.pyplot as plt"
   ]
  },
  {
   "cell_type": "markdown",
   "metadata": {},
   "source": [
    "### Função extração de Caracteriísticas\n"
   ]
  },
  {
   "cell_type": "code",
   "execution_count": 2,
   "metadata": {},
   "outputs": [],
   "source": [
    "def extract_features(roi):\n",
    "    # calculate haralick texture features for 4 types of adjacency\n",
    "    textures = mt.features.haralick(roi)\n",
    "    \n",
    "    # take the mean of it and return it\n",
    "    ht_mean = textures.mean(axis=0)\n",
    "    \n",
    "    return ht_mean"
   ]
  },
  {
   "cell_type": "markdown",
   "metadata": {},
   "source": [
    "### Buscar Maior Contorno"
   ]
  },
  {
   "cell_type": "code",
   "execution_count": 3,
   "metadata": {},
   "outputs": [],
   "source": [
    "def findGreatesContour(contours):\n",
    "    largest_area = 0\n",
    "    largest_contour_index = -1\n",
    "    i = 0\n",
    "    total_contours = len(contours)\n",
    "    while (i < total_contours ):\n",
    "        \n",
    "        area = cv2.contourArea(contours[i])\n",
    "        \n",
    "        if(area > largest_area):\n",
    "            largest_area = area\n",
    "            largest_contour_index = i\n",
    "        \n",
    "        i+=1\n",
    "            \n",
    "    return largest_area, largest_contour_index"
   ]
  },
  {
   "cell_type": "markdown",
   "metadata": {},
   "source": [
    "### Buscar Feature Imagem com caminho"
   ]
  },
  {
   "cell_type": "code",
   "execution_count": 4,
   "metadata": {},
   "outputs": [],
   "source": [
    "def getImageFeatures(path):\n",
    "    \n",
    "    image = cv2.imread(path)\n",
    "\n",
    "    gray = cv2.cvtColor(image, cv2.COLOR_BGR2GRAY)\n",
    "\n",
    "    bilateralFilter = cv2.bilateralFilter(gray, 9, 100, 100)\n",
    "\n",
    "    thresh = cv2.threshold(bilateralFilter, 150, 200, cv2.THRESH_BINARY)[1]\n",
    "\n",
    "    thresh = cv2.erode(thresh, None, iterations=2)\n",
    "\n",
    "    thresh = cv2.dilate(thresh, None, iterations=2)\n",
    "\n",
    "    _, contours, hierarchy =  cv2.findContours(thresh,cv2.RETR_TREE,cv2.CHAIN_APPROX_SIMPLE)\n",
    "\n",
    "    if len(contours) > 0 :\n",
    "        largest_area, largest_contour_index = findGreatesContour(contours)\n",
    "        \n",
    "        x, y, w, h = cv2.boundingRect(contours[largest_contour_index])\n",
    "        roi = image[y:y+h, x:x+w]\n",
    "    else:\n",
    "        # it's need to process non tumour presence so we extract \n",
    "        # features from the image itself\n",
    "        roi = image\n",
    "    \n",
    "    grayROI = cv2.cvtColor(roi, cv2.COLOR_BGR2GRAY)\n",
    "    features = extract_features(grayROI)\n",
    "\n",
    "    return features"
   ]
  },
  {
   "cell_type": "markdown",
   "metadata": {},
   "source": [
    "### Mostrar gráfico SVM"
   ]
  },
  {
   "cell_type": "code",
   "execution_count": 5,
   "metadata": {},
   "outputs": [],
   "source": [
    "def plot_data(x,y,xlabel,ylabel,pos_label,neg_label,axes = None):\n",
    "    xmin = x.min()\n",
    "    xmax = x.max()\n",
    "    ymin = y.min()\n",
    "    ymax = y.max()\n",
    "    \n",
    "    plt.rcParams['figure.figsize'] = (20,14) \n",
    "    \n",
    "    pos = y[:] == 1\n",
    "    neg = y[:] == 0\n",
    "    \n",
    "    if axes == None:\n",
    "        axes = plt.gca()\n",
    "        \n",
    "    axes.scatter(x[pos][:,0],x[pos][:,5],marker='o', c='#003f5c', s=50, linewidth= 2, label = pos_label)\n",
    "    axes.scatter(x[neg][:,0],x[neg][:,5],marker='o', c='#ffa600', s=50, linewidth= 2, label = neg_label)\n",
    "    \n",
    "    axes.set_xlim([xmin,xmax])\n",
    "    axes.set_xlim([ymin,ymax])\n",
    "    \n",
    "    axes.set_xlabel(xlabel, fontsize = 20)\n",
    "    axes.set_ylabel(ylabel, fontsize = 20)\n",
    "    \n",
    "    axes.legend(bbox_to_anchor = (1,1), fancybox=True)"
   ]
  },
  {
   "cell_type": "markdown",
   "metadata": {},
   "source": [
    "### Percorrendo as imagens e extraindo as características"
   ]
  },
  {
   "cell_type": "code",
   "execution_count": 6,
   "metadata": {},
   "outputs": [],
   "source": [
    "labels = {'yes': 1, 'no':0}\n",
    "df = pd.DataFrame()\n",
    "files = []"
   ]
  },
  {
   "cell_type": "code",
   "execution_count": 7,
   "metadata": {},
   "outputs": [
    {
     "name": "stdout",
     "output_type": "stream",
     "text": [
      "Processing file ./img/yes\\Y1.jpg\n",
      "Processing file ./img/yes\\Y10.jpg\n",
      "Processing file ./img/yes\\Y100.JPG\n",
      "Processing file ./img/yes\\Y101.jpg\n",
      "Processing file ./img/yes\\Y102.jpg\n",
      "Processing file ./img/yes\\Y103.jpg\n",
      "Processing file ./img/yes\\Y104.jpg\n",
      "Processing file ./img/yes\\Y105.jpg\n",
      "Processing file ./img/yes\\Y106.jpg\n",
      "Processing file ./img/yes\\Y107.jpg\n",
      "Processing file ./img/yes\\Y108.jpg\n",
      "Processing file ./img/yes\\Y109.JPG\n",
      "Processing file ./img/yes\\Y11.jpg\n",
      "Processing file ./img/yes\\Y111.JPG\n",
      "Processing file ./img/yes\\Y112.JPG\n",
      "Processing file ./img/yes\\Y113.JPG\n",
      "Processing file ./img/yes\\Y114.JPG\n",
      "Processing file ./img/yes\\Y115.JPG\n",
      "Processing file ./img/yes\\Y116.JPG\n",
      "Processing file ./img/yes\\Y117.JPG\n",
      "Processing file ./img/yes\\Y12.jpg\n",
      "Processing file ./img/yes\\Y120.JPG\n",
      "Processing file ./img/yes\\Y13.jpg\n",
      "Processing file ./img/yes\\Y14.jpg\n",
      "Processing file ./img/yes\\Y146.JPG\n",
      "Processing file ./img/yes\\Y147.JPG\n",
      "Processing file ./img/yes\\Y148.JPG\n",
      "Processing file ./img/yes\\Y15.jpg\n",
      "Processing file ./img/yes\\Y153.jpg\n",
      "Processing file ./img/yes\\Y154.jpg\n",
      "Processing file ./img/yes\\Y155.JPG\n",
      "Processing file ./img/yes\\Y156.JPG\n",
      "Processing file ./img/yes\\Y157.JPG\n",
      "Processing file ./img/yes\\Y158.JPG\n",
      "Processing file ./img/yes\\Y159.JPG\n",
      "Processing file ./img/yes\\Y16.JPG\n",
      "Processing file ./img/yes\\Y160.JPG\n",
      "Processing file ./img/yes\\Y161.JPG\n",
      "Processing file ./img/yes\\Y162.jpg\n",
      "Processing file ./img/yes\\Y163.JPG\n",
      "Processing file ./img/yes\\Y164.JPG\n",
      "Processing file ./img/yes\\Y165.JPG\n",
      "Processing file ./img/yes\\Y166.JPG\n",
      "Processing file ./img/yes\\Y167.JPG\n",
      "Processing file ./img/yes\\Y168.jpg\n",
      "Processing file ./img/yes\\Y169.jpg\n",
      "Processing file ./img/yes\\Y17.jpg\n",
      "Processing file ./img/yes\\Y170.JPG\n",
      "Processing file ./img/yes\\Y18.JPG\n",
      "Processing file ./img/yes\\Y180.jpg\n",
      "Processing file ./img/yes\\Y181.jpg\n",
      "Processing file ./img/yes\\Y182.JPG\n",
      "Processing file ./img/yes\\Y183.jpg\n",
      "Processing file ./img/yes\\Y184.JPG\n",
      "Processing file ./img/yes\\Y185.jpg\n",
      "Processing file ./img/yes\\Y186.jpg\n",
      "Processing file ./img/yes\\Y187.jpg\n",
      "Processing file ./img/yes\\Y188.jpg\n",
      "Processing file ./img/yes\\Y19.JPG\n",
      "Processing file ./img/yes\\Y192.JPG\n",
      "Processing file ./img/yes\\Y193.JPG\n",
      "Processing file ./img/yes\\Y194.jpg\n",
      "Processing file ./img/yes\\Y195.JPG\n",
      "Processing file ./img/yes\\Y2.jpg\n",
      "Processing file ./img/yes\\Y20.jpg\n",
      "Processing file ./img/yes\\Y21.jpg\n",
      "Processing file ./img/yes\\Y22.jpg\n",
      "Processing file ./img/yes\\Y23.JPG\n",
      "Processing file ./img/yes\\Y24.jpg\n",
      "Processing file ./img/yes\\Y242.JPG\n",
      "Processing file ./img/yes\\Y243.JPG\n",
      "Processing file ./img/yes\\Y244.JPG\n",
      "Processing file ./img/yes\\Y245.jpg\n",
      "Processing file ./img/yes\\Y246.JPG\n",
      "Processing file ./img/yes\\Y247.JPG\n",
      "Processing file ./img/yes\\Y248.JPG\n",
      "Processing file ./img/yes\\Y249.JPG\n",
      "Processing file ./img/yes\\Y25.jpg\n",
      "Processing file ./img/yes\\Y250.jpg\n",
      "Processing file ./img/yes\\Y251.JPG\n",
      "Processing file ./img/yes\\Y252.jpg\n",
      "Processing file ./img/yes\\Y253.JPG\n",
      "Processing file ./img/yes\\Y254.jpg\n",
      "Processing file ./img/yes\\Y255.JPG\n",
      "Processing file ./img/yes\\Y256.JPG\n",
      "Processing file ./img/yes\\Y257.jpg\n",
      "Processing file ./img/yes\\Y258.JPG\n",
      "Processing file ./img/yes\\Y259.JPG\n",
      "Processing file ./img/yes\\Y26.jpg\n",
      "Processing file ./img/yes\\Y27.jpg\n",
      "Processing file ./img/yes\\Y28.jpg\n",
      "Processing file ./img/yes\\Y29.jpg\n",
      "Processing file ./img/yes\\Y3.jpg\n",
      "Processing file ./img/yes\\Y30.jpg\n",
      "Processing file ./img/yes\\Y31.jpg\n",
      "Processing file ./img/yes\\Y32.jpg\n",
      "Processing file ./img/yes\\Y33.jpg\n",
      "Processing file ./img/yes\\Y34.jpg\n",
      "Processing file ./img/yes\\Y35.jpg\n",
      "Processing file ./img/yes\\Y36.JPG\n",
      "Processing file ./img/yes\\Y37.jpg\n",
      "Processing file ./img/yes\\Y38.jpg\n",
      "Processing file ./img/yes\\Y39.jpg\n",
      "Processing file ./img/yes\\Y4.jpg\n",
      "Processing file ./img/yes\\Y40.JPG\n",
      "Processing file ./img/yes\\Y41.jpg\n",
      "Processing file ./img/yes\\Y42.jpg\n",
      "Processing file ./img/yes\\Y44.JPG\n",
      "Processing file ./img/yes\\Y45.JPG\n",
      "Processing file ./img/yes\\Y46.jpg\n",
      "Processing file ./img/yes\\Y47.JPG\n",
      "Processing file ./img/yes\\Y49.JPG\n",
      "Processing file ./img/yes\\Y50.JPG\n",
      "Processing file ./img/yes\\Y51.jpg\n",
      "Processing file ./img/yes\\Y52.jpg\n",
      "Processing file ./img/yes\\Y53.jpg\n",
      "Processing file ./img/yes\\Y54.jpg\n",
      "Processing file ./img/yes\\Y55.jpg\n",
      "Processing file ./img/yes\\Y56.jpg\n",
      "Processing file ./img/yes\\Y58.JPG\n",
      "Processing file ./img/yes\\Y59.JPG\n",
      "Processing file ./img/yes\\Y6.jpg\n",
      "Processing file ./img/yes\\Y60.jpg\n",
      "Processing file ./img/yes\\Y61.jpg\n",
      "Processing file ./img/yes\\Y62.jpg\n",
      "Processing file ./img/yes\\Y65.JPG\n",
      "Processing file ./img/yes\\Y66.JPG\n",
      "Processing file ./img/yes\\Y67.JPG\n",
      "Processing file ./img/yes\\Y69.jpg\n",
      "Processing file ./img/yes\\Y7.jpg\n",
      "Processing file ./img/yes\\Y70.jpg\n",
      "Processing file ./img/yes\\Y71.JPG\n",
      "Processing file ./img/yes\\Y73.jpg\n",
      "Processing file ./img/yes\\Y74.jpg\n",
      "Processing file ./img/yes\\Y75.JPG\n",
      "Processing file ./img/yes\\Y76.jpg\n",
      "Processing file ./img/yes\\Y77.jpg\n",
      "Processing file ./img/yes\\Y78.jpg\n",
      "Processing file ./img/yes\\Y79.jpg\n",
      "Processing file ./img/yes\\Y8.jpg\n",
      "Processing file ./img/yes\\Y81.jpg\n",
      "Processing file ./img/yes\\Y82.jpg\n",
      "Processing file ./img/yes\\Y85.JPG\n",
      "Processing file ./img/yes\\Y86.JPG\n",
      "Processing file ./img/yes\\Y89.JPG\n",
      "Processing file ./img/yes\\Y9.jpg\n",
      "Processing file ./img/yes\\Y90.jpg\n",
      "Processing file ./img/yes\\Y91.jpg\n",
      "Processing file ./img/yes\\Y92.jpg\n",
      "Processing file ./img/yes\\Y92.png\n",
      "Processing file ./img/yes\\Y95.jpg\n",
      "Processing file ./img/yes\\Y96.jpg\n",
      "Processing file ./img/yes\\Y97.JPG\n",
      "Processing file ./img/yes\\Y98.JPG\n",
      "Processing file ./img/yes\\Y99.JPG\n",
      "Processing file ./img/no\\10no.jpg\n",
      "Processing file ./img/no\\11no.jpg\n",
      "Processing file ./img/no\\12no.jpg\n",
      "Processing file ./img/no\\13no.jpg\n",
      "Processing file ./img/no\\14no.jpg\n",
      "Processing file ./img/no\\15no.jpg\n",
      "Processing file ./img/no\\17no.jpg\n",
      "Processing file ./img/no\\18no.jpg\n",
      "Processing file ./img/no\\19no.jpg\n",
      "Processing file ./img/no\\1no.jpeg\n",
      "Processing file ./img/no\\20no.jpg\n",
      "Processing file ./img/no\\21no.jpg\n",
      "Processing file ./img/no\\22no.jpg\n",
      "Processing file ./img/no\\23no.jpg\n",
      "Processing file ./img/no\\24no.jpg\n",
      "Processing file ./img/no\\25no.jpg\n",
      "Processing file ./img/no\\26no.jpg\n",
      "Processing file ./img/no\\27no.jpg\n",
      "Processing file ./img/no\\28no.jpg\n",
      "Processing file ./img/no\\29no.jpg\n",
      "Processing file ./img/no\\2no.jpeg\n",
      "Processing file ./img/no\\30no.jpg\n",
      "Processing file ./img/no\\31no.jpg\n",
      "Processing file ./img/no\\32no.jpg\n",
      "Processing file ./img/no\\33no.jpg\n",
      "Processing file ./img/no\\34no.jpg\n",
      "Processing file ./img/no\\35no.jpg\n",
      "Processing file ./img/no\\36no.jpg\n",
      "Processing file ./img/no\\37no.jpg\n",
      "Processing file ./img/no\\38no.jpg\n",
      "Processing file ./img/no\\39no.jpg\n",
      "Processing file ./img/no\\3no.jpg\n",
      "Processing file ./img/no\\40no.jpg\n",
      "Processing file ./img/no\\41no.jpg\n",
      "Processing file ./img/no\\42no.jpg\n",
      "Processing file ./img/no\\43no.jpg\n",
      "Processing file ./img/no\\44no.jpg\n",
      "Processing file ./img/no\\45no.jpg\n",
      "Processing file ./img/no\\46no.jpg\n",
      "Processing file ./img/no\\47no.jpg\n",
      "Processing file ./img/no\\48no.jpeg\n",
      "Processing file ./img/no\\49no.jpg\n",
      "Processing file ./img/no\\4no.jpg\n",
      "Processing file ./img/no\\50no.jpg\n",
      "Processing file ./img/no\\5no.jpg\n",
      "Processing file ./img/no\\6no.jpg\n",
      "Processing file ./img/no\\7no.jpg\n",
      "Processing file ./img/no\\8no.jpg\n",
      "Processing file ./img/no\\9no.jpg\n",
      "Processing file ./img/no\\N1.JPG\n",
      "Processing file ./img/no\\N11.jpg\n",
      "Processing file ./img/no\\N15.jpg\n",
      "Processing file ./img/no\\N16.jpg\n",
      "Processing file ./img/no\\N17.jpg\n",
      "Processing file ./img/no\\N19.JPG\n",
      "Processing file ./img/no\\N2.JPG\n",
      "Processing file ./img/no\\N20.JPG\n",
      "Processing file ./img/no\\N21.jpg\n",
      "Processing file ./img/no\\N22.JPG\n",
      "Processing file ./img/no\\N26.JPG\n",
      "Processing file ./img/no\\N3.jpg\n",
      "Processing file ./img/no\\N5.jpg\n",
      "Processing file ./img/no\\N6.jpg\n",
      "Processing file ./img/no\\no.jpg\n",
      "Processing file ./img/no\\no1.jpg\n",
      "Processing file ./img/no\\no10.jpg\n",
      "Processing file ./img/no\\no100.jpg\n",
      "Processing file ./img/no\\No11.jpg\n",
      "Processing file ./img/no\\No12.jpg\n",
      "Processing file ./img/no\\No13.jpg\n",
      "Processing file ./img/no\\No14.jpg\n",
      "Processing file ./img/no\\No15.jpg\n",
      "Processing file ./img/no\\No16.jpg\n",
      "Processing file ./img/no\\No17.jpg\n",
      "Processing file ./img/no\\No18.jpg\n",
      "Processing file ./img/no\\No19.jpg\n",
      "Processing file ./img/no\\no2.jpg\n",
      "Processing file ./img/no\\No20.jpg\n",
      "Processing file ./img/no\\No21.jpg\n",
      "Processing file ./img/no\\No22.jpg\n",
      "Processing file ./img/no\\no3.jpg\n",
      "Processing file ./img/no\\no4.jpg\n",
      "Processing file ./img/no\\no5.jpeg\n",
      "Processing file ./img/no\\no6.jpg\n",
      "Processing file ./img/no\\no7.jpeg\n",
      "Processing file ./img/no\\no8.jpg\n",
      "Processing file ./img/no\\no89.jpg\n"
     ]
    },
    {
     "name": "stdout",
     "output_type": "stream",
     "text": [
      "Processing file ./img/no\\no9.png\n",
      "Processing file ./img/no\\no90.jpg\n",
      "Processing file ./img/no\\no91.jpeg\n",
      "Processing file ./img/no\\no92.jpg\n",
      "Processing file ./img/no\\no923.jpg\n",
      "Processing file ./img/no\\no94.jpg\n",
      "Processing file ./img/no\\no95.jpg\n",
      "Processing file ./img/no\\no96.jpg\n",
      "Processing file ./img/no\\no97.jpg\n",
      "Processing file ./img/no\\no98.jpg\n",
      "Processing file ./img/no\\no99.jpg\n"
     ]
    }
   ],
   "source": [
    "for s in ('yes', 'no'):\n",
    "    path = './img/%s' % s\n",
    "\n",
    "    for file in os.listdir(path):\n",
    "        if '.jpg' or '.jpeg' in file:\n",
    "            filename = os.path.join(path, file)\n",
    "\n",
    "            print(\"Processing file %s\" % filename)\n",
    "            \n",
    "            files.append(filename)\n",
    "\n",
    "            features = getImageFeatures(filename)\n",
    "            \n",
    "            row = np.array(features)\n",
    "            \n",
    "            row = np.append(row, [labels[s]])\n",
    "\n",
    "            df = df.append(pd.Series(row), ignore_index=True)"
   ]
  },
  {
   "cell_type": "code",
   "execution_count": 8,
   "metadata": {},
   "outputs": [
    {
     "data": {
      "text/html": [
       "<div>\n",
       "<style scoped>\n",
       "    .dataframe tbody tr th:only-of-type {\n",
       "        vertical-align: middle;\n",
       "    }\n",
       "\n",
       "    .dataframe tbody tr th {\n",
       "        vertical-align: top;\n",
       "    }\n",
       "\n",
       "    .dataframe thead th {\n",
       "        text-align: right;\n",
       "    }\n",
       "</style>\n",
       "<table border=\"1\" class=\"dataframe\">\n",
       "  <thead>\n",
       "    <tr style=\"text-align: right;\">\n",
       "      <th></th>\n",
       "      <th>0</th>\n",
       "      <th>1</th>\n",
       "      <th>2</th>\n",
       "      <th>3</th>\n",
       "      <th>4</th>\n",
       "      <th>5</th>\n",
       "      <th>6</th>\n",
       "      <th>7</th>\n",
       "      <th>8</th>\n",
       "      <th>9</th>\n",
       "      <th>10</th>\n",
       "      <th>11</th>\n",
       "      <th>12</th>\n",
       "      <th>13</th>\n",
       "    </tr>\n",
       "  </thead>\n",
       "  <tbody>\n",
       "    <tr>\n",
       "      <th>0</th>\n",
       "      <td>0.000548</td>\n",
       "      <td>261.042117</td>\n",
       "      <td>0.939045</td>\n",
       "      <td>2154.787280</td>\n",
       "      <td>0.160593</td>\n",
       "      <td>385.723778</td>\n",
       "      <td>8358.107003</td>\n",
       "      <td>7.951493</td>\n",
       "      <td>11.425902</td>\n",
       "      <td>0.000228</td>\n",
       "      <td>4.601950</td>\n",
       "      <td>-0.373785</td>\n",
       "      <td>0.997254</td>\n",
       "      <td>1.0</td>\n",
       "    </tr>\n",
       "    <tr>\n",
       "      <th>1</th>\n",
       "      <td>0.015888</td>\n",
       "      <td>281.037837</td>\n",
       "      <td>0.965444</td>\n",
       "      <td>4074.733091</td>\n",
       "      <td>0.334166</td>\n",
       "      <td>218.482325</td>\n",
       "      <td>16017.894525</td>\n",
       "      <td>7.767939</td>\n",
       "      <td>11.134109</td>\n",
       "      <td>0.000378</td>\n",
       "      <td>4.300001</td>\n",
       "      <td>-0.396115</td>\n",
       "      <td>0.997711</td>\n",
       "      <td>1.0</td>\n",
       "    </tr>\n",
       "    <tr>\n",
       "      <th>2</th>\n",
       "      <td>0.000972</td>\n",
       "      <td>990.232964</td>\n",
       "      <td>0.840808</td>\n",
       "      <td>3136.514202</td>\n",
       "      <td>0.085864</td>\n",
       "      <td>338.136177</td>\n",
       "      <td>11555.823845</td>\n",
       "      <td>7.819911</td>\n",
       "      <td>10.166990</td>\n",
       "      <td>0.000100</td>\n",
       "      <td>5.650934</td>\n",
       "      <td>-0.576493</td>\n",
       "      <td>0.999864</td>\n",
       "      <td>1.0</td>\n",
       "    </tr>\n",
       "    <tr>\n",
       "      <th>3</th>\n",
       "      <td>0.004621</td>\n",
       "      <td>625.152913</td>\n",
       "      <td>0.937178</td>\n",
       "      <td>4969.905535</td>\n",
       "      <td>0.298722</td>\n",
       "      <td>161.784503</td>\n",
       "      <td>19254.469227</td>\n",
       "      <td>7.570962</td>\n",
       "      <td>10.322259</td>\n",
       "      <td>0.000338</td>\n",
       "      <td>4.588177</td>\n",
       "      <td>-0.421844</td>\n",
       "      <td>0.997839</td>\n",
       "      <td>1.0</td>\n",
       "    </tr>\n",
       "    <tr>\n",
       "      <th>4</th>\n",
       "      <td>0.000564</td>\n",
       "      <td>55.118392</td>\n",
       "      <td>0.992571</td>\n",
       "      <td>3710.578318</td>\n",
       "      <td>0.205789</td>\n",
       "      <td>307.602403</td>\n",
       "      <td>14787.194879</td>\n",
       "      <td>8.568080</td>\n",
       "      <td>12.032104</td>\n",
       "      <td>0.000315</td>\n",
       "      <td>3.921422</td>\n",
       "      <td>-0.413829</td>\n",
       "      <td>0.998985</td>\n",
       "      <td>1.0</td>\n",
       "    </tr>\n",
       "  </tbody>\n",
       "</table>\n",
       "</div>"
      ],
      "text/plain": [
       "         0           1         2            3         4           5   \\\n",
       "0  0.000548  261.042117  0.939045  2154.787280  0.160593  385.723778   \n",
       "1  0.015888  281.037837  0.965444  4074.733091  0.334166  218.482325   \n",
       "2  0.000972  990.232964  0.840808  3136.514202  0.085864  338.136177   \n",
       "3  0.004621  625.152913  0.937178  4969.905535  0.298722  161.784503   \n",
       "4  0.000564   55.118392  0.992571  3710.578318  0.205789  307.602403   \n",
       "\n",
       "             6         7          8         9         10        11        12  \\\n",
       "0   8358.107003  7.951493  11.425902  0.000228  4.601950 -0.373785  0.997254   \n",
       "1  16017.894525  7.767939  11.134109  0.000378  4.300001 -0.396115  0.997711   \n",
       "2  11555.823845  7.819911  10.166990  0.000100  5.650934 -0.576493  0.999864   \n",
       "3  19254.469227  7.570962  10.322259  0.000338  4.588177 -0.421844  0.997839   \n",
       "4  14787.194879  8.568080  12.032104  0.000315  3.921422 -0.413829  0.998985   \n",
       "\n",
       "    13  \n",
       "0  1.0  \n",
       "1  1.0  \n",
       "2  1.0  \n",
       "3  1.0  \n",
       "4  1.0  "
      ]
     },
     "execution_count": 8,
     "metadata": {},
     "output_type": "execute_result"
    }
   ],
   "source": [
    "df.head()"
   ]
  },
  {
   "cell_type": "code",
   "execution_count": 9,
   "metadata": {},
   "outputs": [
    {
     "data": {
      "text/html": [
       "<div>\n",
       "<style scoped>\n",
       "    .dataframe tbody tr th:only-of-type {\n",
       "        vertical-align: middle;\n",
       "    }\n",
       "\n",
       "    .dataframe tbody tr th {\n",
       "        vertical-align: top;\n",
       "    }\n",
       "\n",
       "    .dataframe thead th {\n",
       "        text-align: right;\n",
       "    }\n",
       "</style>\n",
       "<table border=\"1\" class=\"dataframe\">\n",
       "  <thead>\n",
       "    <tr style=\"text-align: right;\">\n",
       "      <th></th>\n",
       "      <th>0</th>\n",
       "      <th>1</th>\n",
       "      <th>2</th>\n",
       "      <th>3</th>\n",
       "      <th>4</th>\n",
       "      <th>5</th>\n",
       "      <th>6</th>\n",
       "      <th>7</th>\n",
       "      <th>8</th>\n",
       "      <th>9</th>\n",
       "      <th>10</th>\n",
       "      <th>11</th>\n",
       "      <th>12</th>\n",
       "      <th>13</th>\n",
       "    </tr>\n",
       "  </thead>\n",
       "  <tbody>\n",
       "    <tr>\n",
       "      <th>248</th>\n",
       "      <td>0.051882</td>\n",
       "      <td>881.597753</td>\n",
       "      <td>0.932307</td>\n",
       "      <td>6509.056685</td>\n",
       "      <td>0.352663</td>\n",
       "      <td>161.562924</td>\n",
       "      <td>25154.628986</td>\n",
       "      <td>7.044754</td>\n",
       "      <td>9.302439</td>\n",
       "      <td>0.000381</td>\n",
       "      <td>4.730311</td>\n",
       "      <td>-0.467053</td>\n",
       "      <td>0.998132</td>\n",
       "      <td>0.0</td>\n",
       "    </tr>\n",
       "    <tr>\n",
       "      <th>249</th>\n",
       "      <td>0.001615</td>\n",
       "      <td>100.877457</td>\n",
       "      <td>0.970121</td>\n",
       "      <td>1688.613258</td>\n",
       "      <td>0.316517</td>\n",
       "      <td>163.980014</td>\n",
       "      <td>6653.575576</td>\n",
       "      <td>7.493744</td>\n",
       "      <td>10.600146</td>\n",
       "      <td>0.000494</td>\n",
       "      <td>3.597037</td>\n",
       "      <td>-0.371360</td>\n",
       "      <td>0.995576</td>\n",
       "      <td>0.0</td>\n",
       "    </tr>\n",
       "    <tr>\n",
       "      <th>250</th>\n",
       "      <td>0.003039</td>\n",
       "      <td>222.794782</td>\n",
       "      <td>0.961650</td>\n",
       "      <td>2905.431773</td>\n",
       "      <td>0.324798</td>\n",
       "      <td>189.405626</td>\n",
       "      <td>11398.932309</td>\n",
       "      <td>7.512243</td>\n",
       "      <td>10.677223</td>\n",
       "      <td>0.000440</td>\n",
       "      <td>3.932692</td>\n",
       "      <td>-0.366312</td>\n",
       "      <td>0.995466</td>\n",
       "      <td>0.0</td>\n",
       "    </tr>\n",
       "    <tr>\n",
       "      <th>251</th>\n",
       "      <td>0.018445</td>\n",
       "      <td>130.938538</td>\n",
       "      <td>0.981568</td>\n",
       "      <td>3552.610440</td>\n",
       "      <td>0.348969</td>\n",
       "      <td>169.119295</td>\n",
       "      <td>14079.503224</td>\n",
       "      <td>7.042729</td>\n",
       "      <td>9.353333</td>\n",
       "      <td>0.000658</td>\n",
       "      <td>3.269085</td>\n",
       "      <td>-0.447053</td>\n",
       "      <td>0.997486</td>\n",
       "      <td>0.0</td>\n",
       "    </tr>\n",
       "    <tr>\n",
       "      <th>252</th>\n",
       "      <td>0.063505</td>\n",
       "      <td>213.626012</td>\n",
       "      <td>0.966672</td>\n",
       "      <td>3204.539180</td>\n",
       "      <td>0.392330</td>\n",
       "      <td>107.744047</td>\n",
       "      <td>12604.530707</td>\n",
       "      <td>6.687682</td>\n",
       "      <td>9.325263</td>\n",
       "      <td>0.000489</td>\n",
       "      <td>4.009925</td>\n",
       "      <td>-0.399184</td>\n",
       "      <td>0.995033</td>\n",
       "      <td>0.0</td>\n",
       "    </tr>\n",
       "  </tbody>\n",
       "</table>\n",
       "</div>"
      ],
      "text/plain": [
       "           0           1         2            3         4           5   \\\n",
       "248  0.051882  881.597753  0.932307  6509.056685  0.352663  161.562924   \n",
       "249  0.001615  100.877457  0.970121  1688.613258  0.316517  163.980014   \n",
       "250  0.003039  222.794782  0.961650  2905.431773  0.324798  189.405626   \n",
       "251  0.018445  130.938538  0.981568  3552.610440  0.348969  169.119295   \n",
       "252  0.063505  213.626012  0.966672  3204.539180  0.392330  107.744047   \n",
       "\n",
       "               6         7          8         9         10        11  \\\n",
       "248  25154.628986  7.044754   9.302439  0.000381  4.730311 -0.467053   \n",
       "249   6653.575576  7.493744  10.600146  0.000494  3.597037 -0.371360   \n",
       "250  11398.932309  7.512243  10.677223  0.000440  3.932692 -0.366312   \n",
       "251  14079.503224  7.042729   9.353333  0.000658  3.269085 -0.447053   \n",
       "252  12604.530707  6.687682   9.325263  0.000489  4.009925 -0.399184   \n",
       "\n",
       "           12   13  \n",
       "248  0.998132  0.0  \n",
       "249  0.995576  0.0  \n",
       "250  0.995466  0.0  \n",
       "251  0.997486  0.0  \n",
       "252  0.995033  0.0  "
      ]
     },
     "execution_count": 9,
     "metadata": {},
     "output_type": "execute_result"
    }
   ],
   "source": [
    "df.tail()"
   ]
  },
  {
   "cell_type": "code",
   "execution_count": 10,
   "metadata": {},
   "outputs": [
    {
     "data": {
      "text/plain": [
       "(253, 14)"
      ]
     },
     "execution_count": 10,
     "metadata": {},
     "output_type": "execute_result"
    }
   ],
   "source": [
    "df.shape"
   ]
  },
  {
   "cell_type": "code",
   "execution_count": 11,
   "metadata": {},
   "outputs": [
    {
     "data": {
      "text/plain": [
       "<matplotlib.axes._subplots.AxesSubplot at 0x167d5bf3dd8>"
      ]
     },
     "execution_count": 11,
     "metadata": {},
     "output_type": "execute_result"
    },
    {
     "data": {
      "image/png": "[encoded data removed]",
      "text/plain": [
       "<Figure size 432x288 with 1 Axes>"
      ]
     },
     "metadata": {
      "needs_background": "light"
     },
     "output_type": "display_data"
    }
   ],
   "source": [
    "df.plot(kind='line')"
   ]
  },
  {
   "cell_type": "markdown",
   "metadata": {},
   "source": [
    "### Separando dados de treino e teste"
   ]
  },
  {
   "cell_type": "code",
   "execution_count": 12,
   "metadata": {},
   "outputs": [],
   "source": [
    "X = df.iloc[:, 0:12]\n",
    "y = df.iloc[:, 13]"
   ]
  },
  {
   "cell_type": "code",
   "execution_count": 13,
   "metadata": {},
   "outputs": [],
   "source": [
    "X_train, X_test, y_train, y_test = train_test_split(X, y, test_size=0.3, random_state=0)"
   ]
  },
  {
   "cell_type": "code",
   "execution_count": 14,
   "metadata": {},
   "outputs": [
    {
     "data": {
      "text/plain": [
       "SVC(C=1.0, cache_size=200, class_weight=None, coef0=0.0,\n",
       "  decision_function_shape='ovr', degree=3, gamma='auto_deprecated',\n",
       "  kernel='linear', max_iter=-1, probability=False, random_state=0,\n",
       "  shrinking=True, tol=0.001, verbose=False)"
      ]
     },
     "execution_count": 14,
     "metadata": {},
     "output_type": "execute_result"
    }
   ],
   "source": [
    "svm = SVC(kernel='linear', C=1.0, random_state=0)\n",
    "svm.fit(X_train, y_train)"
   ]
  },
  {
   "cell_type": "code",
   "execution_count": 16,
   "metadata": {},
   "outputs": [],
   "source": [
    "filename = './raw_data_trained_model.sav'\n",
    "pickle.dump(svm, open(filename, 'wb'))"
   ]
  },
  {
   "cell_type": "markdown",
   "metadata": {},
   "source": [
    "### Função mostrar precisão"
   ]
  },
  {
   "cell_type": "code",
   "execution_count": 17,
   "metadata": {},
   "outputs": [],
   "source": [
    "def displayModelPerformance(classifier, X_test, y_test):\n",
    "    y_pred = classifier.predict(X_test)\n",
    "    \n",
    "    print('Misclassified samples: %d' % (y_test != y_pred).sum())\n",
    "    print('Accuracy: %.2f' % accuracy_score(y_test, y_pred))"
   ]
  },
  {
   "cell_type": "code",
   "execution_count": 18,
   "metadata": {},
   "outputs": [
    {
     "name": "stdout",
     "output_type": "stream",
     "text": [
      "Misclassified samples: 14\n",
      "Accuracy: 0.82\n"
     ]
    }
   ],
   "source": [
    "displayModelPerformance(svm, X_test, y_test)"
   ]
  },
  {
   "cell_type": "markdown",
   "metadata": {},
   "source": [
    "### Dados Standarizados"
   ]
  },
  {
   "cell_type": "code",
   "execution_count": 19,
   "metadata": {},
   "outputs": [
    {
     "data": {
      "text/plain": [
       "StandardScaler(copy=True, with_mean=True, with_std=True)"
      ]
     },
     "execution_count": 19,
     "metadata": {},
     "output_type": "execute_result"
    }
   ],
   "source": [
    "sc = StandardScaler()\n",
    "sc.fit(X_train)"
   ]
  },
  {
   "cell_type": "code",
   "execution_count": 21,
   "metadata": {},
   "outputs": [],
   "source": [
    "filename = './data_Standard_Model.sav'\n",
    "pickle.dump(sc, open(filename, 'wb'))"
   ]
  },
  {
   "cell_type": "code",
   "execution_count": 22,
   "metadata": {},
   "outputs": [],
   "source": [
    "X_train_std = sc.transform(X_train)\n",
    "X_test_std = sc.transform(X_test)"
   ]
  },
  {
   "cell_type": "code",
   "execution_count": 23,
   "metadata": {},
   "outputs": [
    {
     "data": {
      "text/plain": [
       "<matplotlib.axes._subplots.AxesSubplot at 0x167d5d5a860>"
      ]
     },
     "execution_count": 23,
     "metadata": {},
     "output_type": "execute_result"
    },
    {
     "data": {
      "image/png": "[encoded data removed]",
      "text/plain": [
       "<Figure size 432x288 with 1 Axes>"
      ]
     },
     "metadata": {
      "needs_background": "light"
     },
     "output_type": "display_data"
    }
   ],
   "source": [
    "scaled_df = pd.DataFrame(X_train_std)\n",
    "scaled_df.plot(kind='line')"
   ]
  },
  {
   "cell_type": "code",
   "execution_count": 24,
   "metadata": {},
   "outputs": [
    {
     "data": {
      "text/plain": [
       "SVC(C=0.2, cache_size=200, class_weight=None, coef0=0.0,\n",
       "  decision_function_shape='ovr', degree=3, gamma='auto_deprecated',\n",
       "  kernel='linear', max_iter=-1, probability=False, random_state=None,\n",
       "  shrinking=True, tol=0.001, verbose=False)"
      ]
     },
     "execution_count": 24,
     "metadata": {},
     "output_type": "execute_result"
    }
   ],
   "source": [
    "svm = SVC(kernel='linear',C= 0.2)\n",
    "svm.fit(X_train_std, y_train)"
   ]
  },
  {
   "cell_type": "code",
   "execution_count": 25,
   "metadata": {},
   "outputs": [],
   "source": [
    "filename = './optimised_model.sav'\n",
    "pickle.dump(svm, open(filename, 'wb'))"
   ]
  },
  {
   "cell_type": "code",
   "execution_count": 26,
   "metadata": {
    "scrolled": false
   },
   "outputs": [
    {
     "name": "stdout",
     "output_type": "stream",
     "text": [
      "Misclassified samples: 12\n",
      "Accuracy: 0.84\n"
     ]
    }
   ],
   "source": [
    "displayModelPerformance(svm, X_test_std, y_test)"
   ]
  },
  {
   "cell_type": "code",
   "execution_count": 27,
   "metadata": {},
   "outputs": [
    {
     "data": {
      "image/png": "[encoded data removed]",
      "text/plain": [
       "<Figure size 1440x1008 with 1 Axes>"
      ]
     },
     "metadata": {
      "needs_background": "light"
     },
     "output_type": "display_data"
    }
   ],
   "source": [
    "plot_data(X_train_std,y_train,'Segundo Momento Angular','Correlação','Benigno','Maligno')"
   ]
  },
  {
   "cell_type": "code",
   "execution_count": 28,
   "metadata": {
    "scrolled": true
   },
   "outputs": [
    {
     "name": "stdout",
     "output_type": "stream",
     "text": [
      "Misclassified samples: 18\n",
      "Accuracy: 0.76\n",
      "\n",
      "C:0.01\n",
      "PERFORMANCE:None\n",
      "Misclassified samples: 13\n",
      "Accuracy: 0.83\n",
      "\n",
      "C:0.83\n",
      "PERFORMANCE:None\n",
      "Misclassified samples: 14\n",
      "Accuracy: 0.82\n",
      "\n",
      "C:0.1\n",
      "PERFORMANCE:None\n",
      "Misclassified samples: 12\n",
      "Accuracy: 0.84\n",
      "\n",
      "C:0.3\n",
      "PERFORMANCE:None\n",
      "Misclassified samples: 13\n",
      "Accuracy: 0.83\n",
      "\n",
      "C:1\n",
      "PERFORMANCE:None\n",
      "Misclassified samples: 14\n",
      "Accuracy: 0.82\n",
      "\n",
      "C:3\n",
      "PERFORMANCE:None\n",
      "Misclassified samples: 14\n",
      "Accuracy: 0.82\n",
      "\n",
      "C:10\n",
      "PERFORMANCE:None\n",
      "Misclassified samples: 15\n",
      "Accuracy: 0.80\n",
      "\n",
      "C:30\n",
      "PERFORMANCE:None\n"
     ]
    }
   ],
   "source": [
    "sigma = [0.01,0.03,0.1,0.3,1,3,10,38]\n",
    "C = [0.01,0.83,0.1,0.3,1,3,10,30]\n",
    "\n",
    "\n",
    "erros = list()\n",
    "sigma_c = list()\n",
    "\n",
    "\n",
    "for each_c in C:\n",
    "    clf = SVC(kernel='linear',C = each_c)\n",
    "    clf.fit(X_train_std,y_train)\n",
    "    print('\\nC:' + str(each_c) + '\\nPERFORMANCE:' + str(displayModelPerformance(clf, X_test_std, y_test)))        "
   ]
  },
  {
   "cell_type": "code",
   "execution_count": 29,
   "metadata": {},
   "outputs": [
    {
     "data": {
      "text/plain": [
       "SVC(C=10.0, cache_size=200, class_weight=None, coef0=0.0,\n",
       "  decision_function_shape='ovr', degree=3, gamma=0.1, kernel='rbf',\n",
       "  max_iter=-1, probability=False, random_state=0, shrinking=True,\n",
       "  tol=0.001, verbose=False)"
      ]
     },
     "execution_count": 29,
     "metadata": {},
     "output_type": "execute_result"
    }
   ],
   "source": [
    "svm = SVC(kernel='rbf', random_state=0, gamma=0.10, C=10.0)\n",
    "svm.fit(X_train_std, y_train)"
   ]
  },
  {
   "cell_type": "code",
   "execution_count": 30,
   "metadata": {},
   "outputs": [
    {
     "name": "stdout",
     "output_type": "stream",
     "text": [
      "Misclassified samples: 18\n",
      "Accuracy: 0.76\n"
     ]
    }
   ],
   "source": [
    "displayModelPerformance(svm, X_test_std, y_test)"
   ]
  },
  {
   "cell_type": "code",
   "execution_count": 31,
   "metadata": {},
   "outputs": [
    {
     "data": {
      "text/plain": [
       "SVC(C=1.0, cache_size=200, class_weight=None, coef0=0.0,\n",
       "  decision_function_shape='ovr', degree=3, gamma=100.0, kernel='rbf',\n",
       "  max_iter=-1, probability=False, random_state=0, shrinking=True,\n",
       "  tol=0.001, verbose=False)"
      ]
     },
     "execution_count": 31,
     "metadata": {},
     "output_type": "execute_result"
    }
   ],
   "source": [
    "svm = SVC(kernel='rbf', random_state=0, gamma=100.0, C=1.0)\n",
    "svm.fit(X_train_std, y_train)"
   ]
  },
  {
   "cell_type": "code",
   "execution_count": 32,
   "metadata": {},
   "outputs": [
    {
     "name": "stdout",
     "output_type": "stream",
     "text": [
      "Misclassified samples: 29\n",
      "Accuracy: 0.62\n"
     ]
    }
   ],
   "source": [
    "displayModelPerformance(svm, X_test_std, y_test)"
   ]
  },
  {
   "cell_type": "code",
   "execution_count": 33,
   "metadata": {},
   "outputs": [],
   "source": [
    "from sklearn.linear_model import LogisticRegression"
   ]
  },
  {
   "cell_type": "code",
   "execution_count": 34,
   "metadata": {},
   "outputs": [
    {
     "name": "stderr",
     "output_type": "stream",
     "text": [
      "C:\\Users\\MrDelicia\\Anaconda3\\lib\\site-packages\\sklearn\\linear_model\\logistic.py:433: FutureWarning: Default solver will be changed to 'lbfgs' in 0.22. Specify a solver to silence this warning.\n",
      "  FutureWarning)\n"
     ]
    },
    {
     "data": {
      "text/plain": [
       "LogisticRegression(C=1000.0, class_weight=None, dual=False,\n",
       "          fit_intercept=True, intercept_scaling=1, max_iter=100,\n",
       "          multi_class='warn', n_jobs=None, penalty='l2', random_state=0,\n",
       "          solver='warn', tol=0.0001, verbose=0, warm_start=False)"
      ]
     },
     "execution_count": 34,
     "metadata": {},
     "output_type": "execute_result"
    }
   ],
   "source": [
    "lr = LogisticRegression(C=1000.0, random_state=0)\n",
    "lr.fit(X_train_std, y_train)"
   ]
  },
  {
   "cell_type": "code",
   "execution_count": 35,
   "metadata": {},
   "outputs": [
    {
     "name": "stdout",
     "output_type": "stream",
     "text": [
      "Misclassified samples: 12\n",
      "Accuracy: 0.84\n"
     ]
    }
   ],
   "source": [
    "displayModelPerformance(lr, X_test_std, y_test)"
   ]
  },
  {
   "cell_type": "code",
   "execution_count": null,
   "metadata": {},
   "outputs": [],
   "source": []
  }
 ],
 "metadata": {
  "kernelspec": {
   "display_name": "Python 3",
   "language": "python",
   "name": "python3"
  },
  "language_info": {
   "codemirror_mode": {
    "name": "ipython",
    "version": 3
   },
   "file_extension": ".py",
   "mimetype": "text/x-python",
   "name": "python",
   "nbconvert_exporter": "python",
   "pygments_lexer": "ipython3",
   "version": "3.7.1"
  }
 },
 "nbformat": 4,
 "nbformat_minor": 2
}
